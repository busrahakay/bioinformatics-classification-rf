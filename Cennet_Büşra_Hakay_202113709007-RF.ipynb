{
  "nbformat": 4,
  "nbformat_minor": 0,
  "metadata": {
    "colab": {
      "provenance": []
    },
    "kernelspec": {
      "name": "python3",
      "display_name": "Python 3"
    },
    "language_info": {
      "name": "python"
    }
  },
  "cells": [
    {
      "cell_type": "markdown",
      "source": [
        "# **Cennet Büşra HAKAY - 202113709007 / Biyoinformatiğe Giriş Dersi Final Ödevi**"
      ],
      "metadata": {
        "id": "vAla5pZrAijM"
      }
    },
    {
      "cell_type": "markdown",
      "source": [
        "**KULLANILAN VERİ SETLERİNİN LİNKLERİ VE HİKAYELERİ:**                                               "
      ],
      "metadata": {
        "id": "jP3sNIdTxN3b"
      }
    },
    {
      "cell_type": "markdown",
      "source": [
        "dog.fasta->https://www.ncbi.nlm.nih.gov/nuccore/AF013216.1?report=fasta                \n",
        "**Hikayesi**: Bu veri seti, Myxococcus xanthus DK 1622 bakterisinin genetik yapısını incelemek için hazırlanmıştır. İçeriğinde, bakterinin metabolizması ve çevresel uyumunda önemli rol oynayan genler yer alır. Veri, 1997 yılında University of Idaho araştırmacıları tarafından toplanmış ve bakterinin biyolojik süreçlerini anlamaya yönelik çalışmalar için kullanılmıştır.\n",
        "Veri setinde yer alan \"Dog\" ifadesi, genellikle bir organizmanın ya da bir genin bilimsel adından ziyade bir takma ad veya etiket olacak şekilde kullanılmıştır. Veri setinin tanımına göre, bu ifade belirli bir gen ya da gen kümesi için kullanılmıştır.\n",
        "\n",
        "Ancak, bu \"Dog\" kelimesinin gerçek anlamı, veri setini sağlayan araştırmacılar veya projenin bağlamı ile doğrudan ilişkilidir. Myxococcus xanthus gibi bir bakterinin doğrudan köpeklerle ilişkisi bulunmamaktadır; bu yalnızca adlandırma konvansiyonlarına bağlıdır."
      ],
      "metadata": {
        "id": "gF8-uMJAxTzy"
      }
    },
    {
      "cell_type": "markdown",
      "source": [
        "         \n",
        "mushroom.fasta->https://www.ncbi.nlm.nih.gov/nuccore/NM_080495.6?report=fasta                             \n",
        "**Hikayesi**: Bu veri, Drosophila melanogaster (meyve sineği) türüne ait bir genin, mushroom body defect (mud) geninin bir varyantına dair bilgi içermektedir. Bu gen, sinir sistemi ve özellikle öğrenme, hafıza gibi işlevlerle ilgili olan mantar cisimciklerinin gelişiminde rol oynar.\n",
        "\n",
        "Veri, NCBI RefSeq projesi kapsamında kurumsal ve bireysel bilimsel katkılarla oluşturulmuştur. FlyBase gibi kaynaklardan gelen genom anotasyonları ve yüksek doğruluklu genomik verilerle sürekli güncellenmiştir. Genin hem genomik hem de transkript seviyesindeki detayları, ilgili araştırmalarla desteklenmiş ve biyoinformatik analizlere uygun şekilde organize edilmiştir."
      ],
      "metadata": {
        "id": "HWvMrnXjm69C"
      }
    },
    {
      "cell_type": "code",
      "execution_count": 18,
      "metadata": {
        "id": "GP7tBj6HABp7"
      },
      "outputs": [],
      "source": [
        "import pandas as pd\n",
        "from collections import Counter\n",
        "from sklearn.ensemble import RandomForestClassifier\n",
        "from sklearn.preprocessing import StandardScaler\n",
        "from sklearn.model_selection import train_test_split, GridSearchCV\n",
        "from sklearn.metrics import classification_report\n",
        "from imblearn.over_sampling import SMOTE"
      ]
    },
    {
      "cell_type": "markdown",
      "source": [
        "**Eğitim boyunca gerekli olacak kütüphaneler projeye dahil edildi.**"
      ],
      "metadata": {
        "id": "B8PO1s9WoS93"
      }
    },
    {
      "cell_type": "code",
      "source": [
        "def read_fasta(file_path):\n",
        "    \"\"\"\n",
        "    Verilen FASTA dosyasını okur ve sadece dizilim satırlarını alır.\n",
        "\n",
        "    Parameters:\n",
        "    file_path (str): FASTA dosyasının yolu.\n",
        "\n",
        "    Returns:\n",
        "    List[str]: Dizilimlerin listesi.\n",
        "    \"\"\"\n",
        "    with open(file_path, \"r\") as file:\n",
        "        lines = file.readlines()\n",
        "\n",
        "    sequences = []\n",
        "    for line in lines:\n",
        "        if not line.startswith(\">\"):  # Başlık satırlarını atlar.\n",
        "            seq = line.strip()  # Dizilim satırını temizler.\n",
        "            if len(seq) > 1:  # Boş ve çok kısa dizilimleri filtreler.\n",
        "                sequences.append(seq)\n",
        "    return sequences"
      ],
      "metadata": {
        "id": "2yoDX6ynIkHW"
      },
      "execution_count": 19,
      "outputs": []
    },
    {
      "cell_type": "markdown",
      "source": [
        "**Bu fonksiyon (read_fasta), bir FASTA dosyasını okuyarak sadece dizilimleri bir liste halinde döndürür. Başlık satırlarını (>) atlar, her satırın başındaki ve sonundaki gereksiz boşlukları temizler. Boş veya çok kısa satırları filtreleyerek yalnızca geçerli dizilimleri saklar. Sonuçta, tüm dizilimleri bir liste olarak geri döndürür. Docstring içerisinde fonksiyonun nasıl çalıştığı belirtildi.**"
      ],
      "metadata": {
        "id": "CusUBRz1qbn_"
      }
    },
    {
      "cell_type": "code",
      "source": [
        "dog_sequences = read_fasta('dog.fasta')\n",
        "mushroom_sequences = read_fasta('mushroom.fasta')"
      ],
      "metadata": {
        "id": "E9Fom1ieImwW"
      },
      "execution_count": 20,
      "outputs": []
    },
    {
      "cell_type": "markdown",
      "source": [
        "**Fasta formatındaki veriler okundu.**"
      ],
      "metadata": {
        "id": "8gKvyvmCdV5n"
      }
    },
    {
      "cell_type": "code",
      "source": [
        "def kmer_frequencies(sequences, k=2):\n",
        "    \"\"\"\n",
        "    Her dizilim için k-mer frekanslarını hesaplar.\n",
        "\n",
        "    Parameters:\n",
        "    sequences (List[str]): Dizilimlerin listesi.\n",
        "    k (int): K-mer uzunluğu.\n",
        "\n",
        "    Returns:\n",
        "    List[Counter]: Her dizilim için k-mer frekanslarını tutan bir liste.\n",
        "    \"\"\"\n",
        "    kmer_counts = []\n",
        "    for seq in sequences:\n",
        "        kmers = [seq[i:i+k] for i in range(len(seq) - k + 1)]\n",
        "        kmer_count = Counter(kmers)  # K-mer frekansları\n",
        "        kmer_counts.append(kmer_count)\n",
        "    return kmer_counts"
      ],
      "metadata": {
        "id": "Y9eyM_ynIpr3"
      },
      "execution_count": 21,
      "outputs": []
    },
    {
      "cell_type": "markdown",
      "source": [
        "**Buradaki amaç sınıflandırmak için özellik çıkarmaktır. Biyolojik dizilimlerden k-mer frekanslarını hesaplar. Her bir dizilim için, uzunluğu k olan alt dizilimler (k-mer'ler) çıkarılır ve bu k-mer'lerin frekansları bir sayaç (Counter) ile kaydedilir. Sonuç olarak, her dizilimin k-mer frekanslarını içeren bir liste döner. Bu, dizilimlerden anlamlı sayısal özellikler elde etmek için kullanılır.**"
      ],
      "metadata": {
        "id": "ihS0JMGDfNLf"
      }
    },
    {
      "cell_type": "code",
      "source": [
        "kmer_data_dog = kmer_frequencies(dog_sequences, k=4)\n",
        "kmer_data_mushroom = kmer_frequencies(mushroom_sequences, k=4)"
      ],
      "metadata": {
        "id": "vkDETZnRIt_X"
      },
      "execution_count": 22,
      "outputs": []
    },
    {
      "cell_type": "markdown",
      "source": [
        "**Frekanslar veri setleri üzerinde uygulanır. (k=4 yapılarak oranlara tekrar bakıldı.)**"
      ],
      "metadata": {
        "id": "1Z7bbO5Sl522"
      }
    },
    {
      "cell_type": "code",
      "source": [
        "all_kmers = set()\n",
        "for kmer_count in kmer_data_dog + kmer_data_mushroom:\n",
        "    all_kmers.update(kmer_count.keys())"
      ],
      "metadata": {
        "id": "Iz50rpX9IwJU"
      },
      "execution_count": 23,
      "outputs": []
    },
    {
      "cell_type": "markdown",
      "source": [
        "**Veri setlerinde bulunan tüm benzersiz k-mer dizilimleri bir kümede toplandı. (Buradaki amaç ortak bir k-mer sözlüğü oluşturmak.)**"
      ],
      "metadata": {
        "id": "DXCOKxlPmkR9"
      }
    },
    {
      "cell_type": "code",
      "source": [
        "def get_feature_vector(kmer_counts, all_kmers):\n",
        "    \"\"\"\n",
        "    K-mer frekanslarından sayısal özellik vektörleri oluşturur.\n",
        "\n",
        "    Parameters:\n",
        "    kmer_counts (List[Counter]): K-mer frekansları.\n",
        "    all_kmers (Set[str]): Tüm k-merlerin kümesi.\n",
        "\n",
        "    Returns:\n",
        "    List[List[int]]: Özellik vektörlerinin listesi.\n",
        "    \"\"\"\n",
        "    feature_vector = []\n",
        "    for kmer_count in kmer_counts:\n",
        "        vector = [kmer_count.get(kmer, 0) for kmer in all_kmers]\n",
        "        feature_vector.append(vector)\n",
        "    return feature_vector\n",
        "X_dog = get_feature_vector(kmer_data_dog, all_kmers)\n",
        "X_mushroom = get_feature_vector(kmer_data_mushroom, all_kmers)"
      ],
      "metadata": {
        "id": "NpgY5t2xIxRN"
      },
      "execution_count": 24,
      "outputs": []
    },
    {
      "cell_type": "markdown",
      "source": [
        "**K-mer frekansları sayısal vektörlere dönüştürülür. K-mer'lerin frekansları, tüm benzersiz k-mer'lerin bulunduğu küme (all_kmers) ile eşleşerek bir vektör oluşturulur. Eğer bir k-mer dizilimde bulunmazsa, bu k-mer için değer 0 olarak kabul edilir.**"
      ],
      "metadata": {
        "id": "g8mX_9dRm_TU"
      }
    },
    {
      "cell_type": "code",
      "source": [
        "# Etiketler oluşturuldu. (sınıflandırma için.)\n",
        "y = ['dog'] * len(dog_sequences) + ['mushroom'] * len(mushroom_sequences)\n",
        "\n",
        "# Veri birleştirildi.\n",
        "X = X_dog + X_mushroom\n",
        "\n",
        "# Normalize edildi.\n",
        "scaler = StandardScaler()\n",
        "X = scaler.fit_transform(X)"
      ],
      "metadata": {
        "id": "7VoGQWFQI7VN"
      },
      "execution_count": 25,
      "outputs": []
    },
    {
      "cell_type": "code",
      "source": [
        "# Veriyi eğitim ve test olarak ayrıldı. (80% eğitim, 20% test)\n",
        "X_train, X_test, y_train, y_test = train_test_split(X, y, test_size=0.2, random_state=42)"
      ],
      "metadata": {
        "id": "_AH5XcAkI9HW"
      },
      "execution_count": 26,
      "outputs": []
    },
    {
      "cell_type": "code",
      "source": [
        "smote = SMOTE(random_state=42)\n",
        "X_train_balanced, y_train_balanced = smote.fit_resample(X_train, y_train)"
      ],
      "metadata": {
        "colab": {
          "base_uri": "https://localhost:8080/"
        },
        "id": "u2qF89KpI-PA",
        "outputId": "8bb8af80-3066-4930-a824-b2c59e835c35"
      },
      "execution_count": 27,
      "outputs": [
        {
          "output_type": "stream",
          "name": "stderr",
          "text": [
            "/usr/local/lib/python3.10/dist-packages/sklearn/base.py:474: FutureWarning: `BaseEstimator._validate_data` is deprecated in 1.6 and will be removed in 1.7. Use `sklearn.utils.validation.validate_data` instead. This function becomes public and is part of the scikit-learn developer API.\n",
            "  warnings.warn(\n",
            "/usr/local/lib/python3.10/dist-packages/sklearn/utils/_tags.py:354: FutureWarning: The SMOTE or classes from which it inherits use `_get_tags` and `_more_tags`. Please define the `__sklearn_tags__` method, or inherit from `sklearn.base.BaseEstimator` and/or other appropriate mixins such as `sklearn.base.TransformerMixin`, `sklearn.base.ClassifierMixin`, `sklearn.base.RegressorMixin`, and `sklearn.base.OutlierMixin`. From scikit-learn 1.7, not defining `__sklearn_tags__` will raise an error.\n",
            "  warnings.warn(\n"
          ]
        }
      ]
    },
    {
      "cell_type": "markdown",
      "source": [
        "**Veri dengesizliğini önlemek için SMOTE kullanıldı.**"
      ],
      "metadata": {
        "id": "WRpBk1zVn5Zf"
      }
    },
    {
      "cell_type": "code",
      "source": [
        "param_grid = {\n",
        "    'n_estimators': [100, 200, 300],  # Ağaç sayısı\n",
        "    'max_depth': [10, 20, None],      # Maksimum derinlik\n",
        "    'min_samples_split': [2, 5, 10], # Dallanma için minimum örnek sayısı\n",
        "    'min_samples_leaf': [1, 2, 4],   # Bir yaprak düğümdeki minimum örnek sayısı\n",
        "    'bootstrap': [True, False]       # Bootstrap örnekleme kullanımı\n",
        "}\n",
        "\n",
        "grid_search = GridSearchCV(\n",
        "    RandomForestClassifier(random_state=42),\n",
        "    param_grid,\n",
        "    cv=3,\n",
        "    scoring='f1_weighted'\n",
        ")\n",
        "\n",
        "grid_search.fit(X_train_balanced, y_train_balanced)\n",
        "\n",
        "model = grid_search.best_estimator_"
      ],
      "metadata": {
        "id": "dooWCCcRJH3j"
      },
      "execution_count": 28,
      "outputs": []
    },
    {
      "cell_type": "markdown",
      "source": [
        "**Random Forest modelinin hiperparametreleri GridSearch ile optimize edildi.\n",
        "GridSearch ile en iyi model için kombinasyonlar denenir ve grid_search.best_estimator_ ile en iyi model seçilerek işlem oluşturulur.**"
      ],
      "metadata": {
        "id": "WVeAZqgJoNUV"
      }
    },
    {
      "cell_type": "code",
      "source": [
        "y_pred = model.predict(X_test)\n",
        "\n",
        "print(\"Best parameters:\", grid_search.best_params_)\n",
        "report = classification_report(y_test, y_pred, output_dict=True)"
      ],
      "metadata": {
        "colab": {
          "base_uri": "https://localhost:8080/"
        },
        "id": "qujs65cuJL8R",
        "outputId": "8a82af42-0c27-4442-9e65-4aab5af273a3"
      },
      "execution_count": 29,
      "outputs": [
        {
          "output_type": "stream",
          "name": "stdout",
          "text": [
            "Best parameters: {'bootstrap': True, 'max_depth': 10, 'min_samples_leaf': 1, 'min_samples_split': 2, 'n_estimators': 300}\n"
          ]
        }
      ]
    },
    {
      "cell_type": "markdown",
      "source": [
        "**Test verisi üzerinde tahmin yapmak için eğitilen en iyi model kullanılır ve performans değerlendirmesi yapılır.**"
      ],
      "metadata": {
        "id": "1jL98hlFo2Y0"
      }
    },
    {
      "cell_type": "code",
      "source": [
        "# GridSearchCV sonuçları pandas DataFrame'e dönüştürüldü.\n",
        "results = grid_search.cv_results_\n",
        "df_results = pd.DataFrame(results)\n",
        "\n",
        "# En iyi 5 sonuç gösterildi.\n",
        "print(\"\\nGridSearchCV Results:\")\n",
        "print(df_results[['params', 'mean_test_score', 'std_test_score', 'rank_test_score']].head())\n"
      ],
      "metadata": {
        "colab": {
          "base_uri": "https://localhost:8080/"
        },
        "id": "olapOfCfJMr2",
        "outputId": "5e2230d9-48b6-4d31-aa8a-1a1c1d13f949"
      },
      "execution_count": 30,
      "outputs": [
        {
          "output_type": "stream",
          "name": "stdout",
          "text": [
            "\n",
            "GridSearchCV Results:\n",
            "                                              params  mean_test_score  \\\n",
            "0  {'bootstrap': True, 'max_depth': 10, 'min_samp...         0.969297   \n",
            "1  {'bootstrap': True, 'max_depth': 10, 'min_samp...         0.969297   \n",
            "2  {'bootstrap': True, 'max_depth': 10, 'min_samp...         0.972114   \n",
            "3  {'bootstrap': True, 'max_depth': 10, 'min_samp...         0.960782   \n",
            "4  {'bootstrap': True, 'max_depth': 10, 'min_samp...         0.966470   \n",
            "\n",
            "   std_test_score  rank_test_score  \n",
            "0        0.037635                7  \n",
            "1        0.037635                7  \n",
            "2        0.033671                1  \n",
            "3        0.049640              115  \n",
            "4        0.041617               37  \n"
          ]
        }
      ]
    },
    {
      "cell_type": "code",
      "source": [
        "# Model performansı pandas DataFrame'e dönüştürüldü.\n",
        "df_report = pd.DataFrame(report).transpose()\n",
        "\n",
        "# Model performans raporu.\n",
        "print(\"\\nClassification Report:\")\n",
        "print(df_report)\n"
      ],
      "metadata": {
        "colab": {
          "base_uri": "https://localhost:8080/"
        },
        "id": "9uIB-NwVJQ94",
        "outputId": "ee6ab348-e1fb-4078-e2f6-ddf3fcbbdd8e"
      },
      "execution_count": 31,
      "outputs": [
        {
          "output_type": "stream",
          "name": "stdout",
          "text": [
            "\n",
            "Classification Report:\n",
            "              precision    recall  f1-score    support\n",
            "dog            0.978261  0.978261  0.978261  46.000000\n",
            "mushroom       0.941176  0.941176  0.941176  17.000000\n",
            "accuracy       0.968254  0.968254  0.968254   0.968254\n",
            "macro avg      0.959719  0.959719  0.959719  63.000000\n",
            "weighted avg   0.968254  0.968254  0.968254  63.000000\n"
          ]
        }
      ]
    },
    {
      "cell_type": "markdown",
      "source": [
        "**Model performans raporuna göre, geliştirdiğim sınıflandırma modeli, hem \"dog\" hem de \"mushroom\" sınıfları için oldukça yüksek bir doğruluk ve dengeli bir performans sergilemiştir. Özellikle, %96.83'lük genel doğruluk oranı, modelin veri setindeki örnekleri başarılı bir şekilde ayırt edebildiğini göstermektedir.**"
      ],
      "metadata": {
        "id": "w1KkUYcGraRD"
      }
    },
    {
      "cell_type": "code",
      "source": [
        "def kmer_frequencies_to_dataframe(kmer_counts, all_kmers):\n",
        "    \"\"\"\n",
        "    K-mer frekanslarını pandas DataFrame olarak döndürür.\n",
        "\n",
        "    Parameters:\n",
        "    kmer_counts (List[Counter]): K-mer frekansları.\n",
        "    all_kmers (Set[str]): Tüm k-merlerin kümesi.\n",
        "\n",
        "    Returns:\n",
        "    pd.DataFrame: K-mer frekansları tablosu.\n",
        "    \"\"\"\n",
        "    feature_matrix = []\n",
        "    all_kmers_list = list(all_kmers)\n",
        "\n",
        "    for kmer_count in kmer_counts:\n",
        "        feature_matrix.append([kmer_count.get(kmer, 0) for kmer in all_kmers_list])\n",
        "\n",
        "    df = pd.DataFrame(feature_matrix, columns=all_kmers_list)\n",
        "    return df\n",
        "\n",
        "df_dog = kmer_frequencies_to_dataframe(kmer_data_dog, all_kmers)\n",
        "df_mushroom = kmer_frequencies_to_dataframe(kmer_data_mushroom, all_kmers)\n",
        "\n",
        "# İlk 5 satır\n",
        "print(\"\\nDog K-mer Frequencies:\")\n",
        "print(df_dog.head())\n",
        "\n",
        "print(\"\\nMushroom K-mer Frequencies:\")\n",
        "print(df_mushroom.head())"
      ],
      "metadata": {
        "colab": {
          "base_uri": "https://localhost:8080/"
        },
        "id": "iBi8ytWNJToA",
        "outputId": "b68e5f01-6340-437c-f65b-1c50f81592aa"
      },
      "execution_count": 32,
      "outputs": [
        {
          "output_type": "stream",
          "name": "stdout",
          "text": [
            "\n",
            "Dog K-mer Frequencies:\n",
            "   ACTT  ATTC  GTCA  GCTG  AAGA  TACT  TACA  AACA  CATG  TCGA  ...  CCAG  \\\n",
            "0     0     0     0     0     0     0     0     0     1     0  ...     2   \n",
            "1     1     0     0     3     0     0     0     0     0     0  ...     0   \n",
            "2     0     1     0     2     0     1     0     0     0     0  ...     0   \n",
            "3     0     0     0     1     0     0     0     0     1     0  ...     1   \n",
            "4     0     0     0     0     0     0     0     0     0     1  ...     1   \n",
            "\n",
            "   AGGT  CGCG  TGTG  TGTT  TTAC  ATGA  AAAC  CTTG  ATTA  \n",
            "0     1     0     0     1     0     0     0     0     0  \n",
            "1     0     2     0     0     0     0     0     0     0  \n",
            "2     0     2     0     0     1     0     0     0     0  \n",
            "3     0     0     0     0     0     0     0     0     0  \n",
            "4     0     0     1     0     0     0     0     0     0  \n",
            "\n",
            "[5 rows x 256 columns]\n",
            "\n",
            "Mushroom K-mer Frequencies:\n",
            "   ACTT  ATTC  GTCA  GCTG  AAGA  TACT  TACA  AACA  CATG  TCGA  ...  CCAG  \\\n",
            "0     0     0     1     0     0     0     0     0     0     0  ...     0   \n",
            "1     1     0     1     0     0     0     0     0     0     0  ...     0   \n",
            "2     0     1     0     0     0     0     1     1     0     0  ...     0   \n",
            "3     0     0     0     1     0     0     1     0     0     2  ...     0   \n",
            "4     0     0     0     0     0     1     1     2     0     0  ...     0   \n",
            "\n",
            "   AGGT  CGCG  TGTG  TGTT  TTAC  ATGA  AAAC  CTTG  ATTA  \n",
            "0     0     0     1     2     1     0     1     0     0  \n",
            "1     0     0     1     2     0     0     0     0     1  \n",
            "2     0     0     1     0     0     0     1     0     0  \n",
            "3     0     1     3     3     0     0     1     0     0  \n",
            "4     0     0     1     0     1     1     1     0     1  \n",
            "\n",
            "[5 rows x 256 columns]\n"
          ]
        }
      ]
    },
    {
      "cell_type": "markdown",
      "source": [
        "**K-mer frekansları pandas DataFrame formatına dönüştürülerek analiz için düzenli bir tablo haline getirildi.**"
      ],
      "metadata": {
        "id": "ZzdP14u1rY38"
      }
    }
  ]
}